{
 "cells": [
  {
   "cell_type": "code",
   "execution_count": 5,
   "metadata": {},
   "outputs": [
    {
     "name": "stdout",
     "output_type": "stream",
     "text": [
      "Result Count: 79\n",
      "Result Count: 20\n",
      "Result Count: 2\n"
     ]
    }
   ],
   "source": [
    "import ctypes\n",
    "import datetime\n",
    "import struct\n",
    "\n",
    "# defines\n",
    "EVERYTHING_REQUEST_FILE_NAME = 0x00000001\n",
    "EVERYTHING_REQUEST_PATH = 0x00000002\n",
    "EVERYTHING_REQUEST_FULL_PATH_AND_FILE_NAME = 0x00000004\n",
    "EVERYTHING_REQUEST_EXTENSION = 0x00000008\n",
    "EVERYTHING_REQUEST_SIZE = 0x00000010\n",
    "EVERYTHING_REQUEST_DATE_CREATED = 0x00000020\n",
    "EVERYTHING_REQUEST_DATE_MODIFIED = 0x00000040\n",
    "EVERYTHING_REQUEST_DATE_ACCESSED = 0x00000080\n",
    "EVERYTHING_REQUEST_ATTRIBUTES = 0x00000100\n",
    "EVERYTHING_REQUEST_FILE_LIST_FILE_NAME = 0x00000200\n",
    "EVERYTHING_REQUEST_RUN_COUNT = 0x00000400\n",
    "EVERYTHING_REQUEST_DATE_RUN = 0x00000800\n",
    "EVERYTHING_REQUEST_DATE_RECENTLY_CHANGED = 0x00001000\n",
    "EVERYTHING_REQUEST_HIGHLIGHTED_FILE_NAME = 0x00002000\n",
    "EVERYTHING_REQUEST_HIGHLIGHTED_PATH = 0x00004000\n",
    "EVERYTHING_REQUEST_HIGHLIGHTED_FULL_PATH_AND_FILE_NAME = 0x00008000\n",
    "\n",
    "# dll imports\n",
    "everything_dll = ctypes.WinDLL(\"C:\\\\Everything-SDK\\\\DLL\\\\Everything64.dll\")\n",
    "everything_dll.Everything_GetResultDateModified.argtypes = [\n",
    "    ctypes.c_int,\n",
    "    ctypes.POINTER(ctypes.c_ulonglong),\n",
    "]\n",
    "everything_dll.Everything_GetResultSize.argtypes = [\n",
    "    ctypes.c_int,\n",
    "    ctypes.POINTER(ctypes.c_ulonglong),\n",
    "]\n",
    "everything_dll.Everything_GetResultFileNameW.argtypes = [ctypes.c_int]\n",
    "everything_dll.Everything_GetResultFileNameW.restype = ctypes.c_wchar_p\n",
    "\n",
    "\n",
    "# convert a windows FILETIME to a python datetime\n",
    "# https://stackoverflow.com/questions/39481221/convert-datetime-back-to-windows-64-bit-filetime\n",
    "WINDOWS_TICKS = int(1 / 10**-7)  # 10,000,000 (100 nanoseconds or .1 microseconds)\n",
    "WINDOWS_EPOCH = datetime.datetime.strptime(\"1601-01-01 00:00:00\", \"%Y-%m-%d %H:%M:%S\")\n",
    "POSIX_EPOCH = datetime.datetime.strptime(\"1970-01-01 00:00:00\", \"%Y-%m-%d %H:%M:%S\")\n",
    "EPOCH_DIFF = (POSIX_EPOCH - WINDOWS_EPOCH).total_seconds()  # 11644473600.0\n",
    "WINDOWS_TICKS_TO_POSIX_EPOCH = EPOCH_DIFF * WINDOWS_TICKS  # 116444736000000000.0\n",
    "\n",
    "\n",
    "file_names = []\n",
    "formats = [\"*.png\", \"*.jpg\", \"*.jpeg\"]\n",
    "for format in formats:\n",
    "    # create buffers\n",
    "    filename = ctypes.create_unicode_buffer(260)\n",
    "    # setup search\n",
    "    everything_dll.Everything_SetSearchW(format)\n",
    "    everything_dll.Everything_SetRequestFlags(\n",
    "        EVERYTHING_REQUEST_FILE_NAME\n",
    "        | EVERYTHING_REQUEST_PATH\n",
    "        | EVERYTHING_REQUEST_SIZE\n",
    "        | EVERYTHING_REQUEST_DATE_MODIFIED\n",
    "    )\n",
    "\n",
    "    # execute the query\n",
    "    everything_dll.Everything_QueryW(1)\n",
    "\n",
    "    # get the number of results\n",
    "    num_results = everything_dll.Everything_GetNumResults()\n",
    "\n",
    "    # show the number of results\n",
    "    print(\"Result Count: {}\".format(num_results))\n",
    "    # show results\n",
    "    for i in range(num_results):\n",
    "\n",
    "        everything_dll.Everything_GetResultFullPathNameW(i, filename, 260)\n",
    "        file_names.append(ctypes.wstring_at(filename))"
   ]
  },
  {
   "cell_type": "code",
   "execution_count": 6,
   "metadata": {},
   "outputs": [],
   "source": [
    "# save file_names to txt\n",
    "with open(\"file_names.txt\", \"w\") as f:\n",
    "    for file_name in file_names:\n",
    "        f.write(file_name + \"\\n\")"
   ]
  }
 ],
 "metadata": {
  "kernelspec": {
   "display_name": "main",
   "language": "python",
   "name": "python3"
  },
  "language_info": {
   "codemirror_mode": {
    "name": "ipython",
    "version": 3
   },
   "file_extension": ".py",
   "mimetype": "text/x-python",
   "name": "python",
   "nbconvert_exporter": "python",
   "pygments_lexer": "ipython3",
   "version": "3.11.8"
  }
 },
 "nbformat": 4,
 "nbformat_minor": 2
}
