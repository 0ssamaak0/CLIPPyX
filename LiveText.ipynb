{
 "cells": [
  {
   "cell_type": "code",
   "execution_count": 1,
   "metadata": {},
   "outputs": [],
   "source": [
    "import pandas as pd"
   ]
  },
  {
   "cell_type": "code",
   "execution_count": 1,
   "metadata": {},
   "outputs": [],
   "source": [
    "from ocrmac import ocrmac"
   ]
  },
  {
   "cell_type": "code",
   "execution_count": 10,
   "metadata": {},
   "outputs": [],
   "source": [
    "images = [\n",
    "    \"/Users/usamaahmed/Pictures/Screenshots/Screenshot 2025-01-15 at 6.43.07 AM.png\",\n",
    "    \"/Users/usamaahmed/Pictures/Screenshots/Screenshot 2025-01-15 at 6.44.07 AM.png\",\n",
    "    \"/Users/usamaahmed/Pictures/Screenshots/Screenshot 2025-01-15 at 6.44.23 AM.png\",\n",
    "    \"/Users/usamaahmed/Pictures/Screenshots/Screenshot 2025-01-15 at 6.45.10 AM.png\",\n",
    "    \"/Users/usamaahmed/Pictures/Screenshots/Screenshot 2025-01-15 at 6.46.14 AM.png\",\n",
    "    \"/Users/usamaahmed/Pictures/Screenshots/Screenshot 2025-01-15 at 6.46.27 AM.png\",\n",
    "    \"/Users/usamaahmed/Pictures/Screenshots/Screenshot 2025-01-15 at 6.47.13 AM.png\",\n",
    "    \"/Users/usamaahmed/Pictures/Screenshots/Screenshot 2025-01-15 at 6.48.35 AM.png\",\n",
    "    \"/Users/usamaahmed/Pictures/Screenshots/Screenshot 2025-01-15 at 6.48.53 AM.png\",\n",
    "    \"/Users/usamaahmed/Pictures/Screenshots/Screenshot 2025-01-15 at 6.54.35 AM.png\",\n",
    "    \"/Users/usamaahmed/Pictures/Screenshots/Screenshot 2025-01-15 at 7.02.33 AM.png\",\n",
    "    \"/Users/usamaahmed/Pictures/Screenshots/Screenshot 2025-01-15 at 7.07.04 AM.png\",\n",
    "]\n",
    "texts = []"
   ]
  },
  {
   "cell_type": "code",
   "execution_count": 11,
   "metadata": {},
   "outputs": [],
   "source": [
    "for image in images:\n",
    "    annotations = ocrmac.OCR(image, recognition_level=\"fast\").recognize()\n",
    "    texts.append(\" \".join([a[0] for a in annotations]))"
   ]
  },
  {
   "cell_type": "code",
   "execution_count": 13,
   "metadata": {},
   "outputs": [
    {
     "data": {
      "text/plain": [
       "['Which of the following would be considered an \"Attribution\" issue in a concise summary. The summary includes irrelevant information. The summary assigns a statement made by one speaker to another speaker. The summary is too brief and lacks detail. The summary contains information that are not backed by the recap.',\n",
       " 'What does it mean for a summary to be \"Groundedll? The summary does not have redundant, repetitive information. The summary is as short as possible. Everything mentioned in the summary can be supported by the meeting notes, there aren\\'t any unsupported information. The language is understandable, there are no issues with grammar.',\n",
       " 'What is the primary goal of the Human Eval Live Summary task? To generate new meeting summaries To evaluate and decide which live summary of the transcript is better. To identify participants in a meeting To identify issues with meeting notes',\n",
       " 'Which of the following is NOT considered an issue under the \"Understanding\" dimension? Diff icult to read Incorrect attribution of statements Poor grammar or syntax Language that is too verbose',\n",
       " 'Why should a live summary avoid using vague terms like \"stuff\" or \"thingsll? These terms are necessary to keep the summary concise They make the summary more descriptive and informative They lack specif icity and reduce the usefulness of the summary They ensure the summary captures all possible details',\n",
       " 'How should you evaluate a summary if the only problem about it is that the summary includes an information that is not supported by the transcript. Penalize {mark down) completeness and groundedness Only mark down groundedness Mark down both citation groundedness and understanding Mark down both completeness and understanding',\n",
       " 'Which of the below is NOT correct? EVERY dimension should be evaluated independently. If either the transcript comprehension and translation comprehension is rated as \"Very Unclear\" the task CANNOT be continued, it should be submitted as is. A single error in the summary should not be penalized in multiple categories. The error should be penalized in the dimension that is mostly related with that error. If a summary has some MISSING important information from the transcript then both completeness and groundedness should be penalized. All the justif iciations should be specif ic and should include specif ic examples f rom the summaryltranscript that supports your selection',\n",
       " 'Elements of a good justif ication . Aim for at least 4-5 sentences Lead with what the user intent is (What does the user want to achieve?) Includes key differences between the responses (How is summarylrecap A different to summarylrecap B) Highlight these factors with reasonably detailed evidence (use examples from the text!) INCLUDE appropriate textual evidence to support your verdict. ALIGN it with your verdict (i.e. rating it \"much better\" requires stronger evidence) MAKE SURE THERE ARE NO CONTRADICTIONS BETWEEN JUSTIFICATIONS AND RATINGS. . Show your research & your work, based on the dimensions: If an issue (eg grammar or something that doesn\\'t sound like native) is identified for writing quality -> share it in your comment If a summary/recap is not grounded on the transcripts explain exactly what makes it not GROUNDED- give examples. If a recap/summary is not COMPLETE, explain what should have been included! If a response has other issues, explain what are these! . Justifications without evidence and supporting claims from the responses or your research will not be counted as good.',\n",
       " '4Elements of good justifications: User Intent: The justification should include a comment that demonstrates an understanding of what the user is looking for with the prompt . Conclusion: We need to determine which response is better and why. The comment should clearly explain the reasoning behind this decision. \"@Response A is better than @Response B li Supporting Claims: The justification needs to have key supporting points to defend its conclusion. li because @Response B has a hallucination issue . Specific Evidence: The precise examples or evidence in the text used to support each supporting point. li .Response B has a groundedness issue in the second paragraph when its talking about\" . Analysis: The explanation(s) of how the evidence defends the supporting claim . Summarize how your evidence supports your preference',\n",
       " 'Turn #1- Prompt Read-only L• Emilia Muller**: \"So for this project, we need to decide if we\\'re bringing in external contractors or assembling an in-house team. Given the scale, do you think it\\'s feasible to handle it ourselves, or should we outsource parts of it?11 Laura Wolf**: at?11 \\'If we need specialized skills, like steel structure engineering, it might be better to hire externally. What other areas are we looking Emilia Muller**: \"Cost savings could be significant if we use our own resources for the basic work, but for complex areas like foundation laying, it could be worth investing in experts.\" Laura Wolf**: critical. \\'Right, and the contractors would need to sync closely with our team. This is for a high-visibility project, so quality control will be Emilia Muller**: \"Definitely, and we\\'ll need someone to oversee the timelines tightly. What do you think about bringing on a project manager specifically for this?11 Lina Roth**: \"l agree. We need a dedicated project manager, especially to track our milestones. Do we have anyone in mind? Emilia Muller**: \"Let\\'s look at a few candidates. We have a budget, so we need to see if we can bring in someone with both project management experience and construction background.\" Laura Wolf**: And if they specialize in commercial building projects, even better. Do we have a timeline set yet?11 Emilia Muller**: \"We\\'re aiming for completion within 18 months. It\\'ll be tight, especially if we face weather delays, so we need to map out every phase precisely.\" Lina Roth**: \"Agreed. How will we handle subcontractors for parts like electrical work and plumbing? Are we open to hiring different teams, or should we stick with one general contractor?11',\n",
       " 'Answer the questions below Label your response according to the questions below. Transcript Comprehension Examine the transcript and indicate how much of the transcript you understand as defined by: Clear understanding of the topic that is being discussed Clear understanding of talking pointslcontributions of each participant in the discussion Very unclear O Somewhat unclear O Neither clear or unclear O Somewhat clear O Very clear O Translation Comprehension Examine the transcript and indicate how much of it felt poorly translated, whether it was too \"literally translated\" from English, completely incorrectly translated or other issues with translation to the point where it becomes too confusing to interpret the meaning. Very unclear O Somewhat unclear O Neither clear or unclear O Somewhat clear O Very clear O',\n",
       " 'Answer the questions below Label your response according to the questions below. Response 1 Emilia, Laura, and Lina assess the feasibility of handling a construction project internally versus outsourcing key tasks. Laura comes up with the idea of hiring a project manager and possibly a general contractor to ensure all teams work in sync and meet deadlines. The conversation emphasizes balancing budget constraints with quality and efficiency, targeting an 18-month timeline. Response Ratability Is the response in the correct language? yes • no Completeness Issues Please select any of the following issues with \"Completeness\" that apply to this summary: Vague summary O Missing most talking points O Other O No Issues Completeness \\' How well does the summary capture the important points from the transcript? Incomplete O Partially complete O 57 words Com']"
      ]
     },
     "execution_count": 13,
     "metadata": {},
     "output_type": "execute_result"
    }
   ],
   "source": [
    "texts"
   ]
  },
  {
   "cell_type": "code",
   "execution_count": 14,
   "metadata": {},
   "outputs": [],
   "source": [
    "from ocr_model.OCR import apply_OCR"
   ]
  },
  {
   "cell_type": "code",
   "execution_count": 15,
   "metadata": {},
   "outputs": [
    {
     "data": {
      "text/plain": [
       "['Which of the following would be considered an \"Attribution\\' \" issue in a concise summary? The summary includes irrelevant information. The summary assigns a statement made by one speaker to another speaker. The summary is too brief and lacks detail. The summary contains information that are not backed by the recap.',\n",
       " 'What does it mean for a summary to be \"Grounded\"? The summary does not have redundant, repetitive The summary is as short as possible. information. Everything mentioned in the summary can be The language is understandable, there are no issues supported by the meeting notes, there aren\\'t any with grammar. unsupported information.',\n",
       " 'What is the primary goal of the Human Eval Live Summary task? To generate new meeting summaries To evaluate and decide which live summary of the transcript is better. To identify participants in a meeting To identify issues with meeting notes',\n",
       " 'Which of the following is NOT considered an issue under the Understanding\" dimension? Difficult to read Incorrect attribution of statements Poor grammar or syntax Language that is too verbose',\n",
       " 'Why should a live summary avoid using vague terms like \"stuff\" or \"things\\' \"? These terms are necessary to keep the summary They make the summary more descriptive and concise informative They lack specificity and reduce the usefulness of the They ensure the summary captures all possible details summary',\n",
       " 'How should you evaluate a summary if the only problem about it is that the summary includes an information that is not supported by the transcript. Penalize (mark down) completeness and groundedness Only mark down groundedness Mark down both citation groundedness and Mark down both completeness and understanding understanding',\n",
       " 'Which of the below is NOT correct? EVERY dimension should be evaluated independently! If either the transcript comprehension and translation comprehension is rated as \"Very Unclear\" the task CANNOT be continued, it should be submitted as is. A single error in the summary should not be penalized in multiple categories. The error should be penalized in the dimension that is mostly related with that error. If a summary has some MISSING important information from the transcript then both completeness and groundedness should be penalized. All the justificiations should be specific and should include specific examples from the summary/transcript that supports your selection',\n",
       " 'of a good justification Aim for at least 4-5 sentences Lead with what the useri intent is (What does the user want to achieve?) Includes key differences between the responses (How is summary/recap A different to summary/recap B) Highlight these factors with reasonably detailed evidence (use examples from the text!) INCLUDE appropriate textual evidence to supportyour verdict. ALIGN it with your verdict (i.e. rating it \"much better\" requires stronger evidence) MAKE SURE THERE ARE NO CONTRADICTIONS BETWEEN JUSTIFICATIONS AND RATINGS. Show your research & your work, based on the dimensions: .If an issue (eg grammar or something that doesn\\'t sound like native) is identified for writing quality - share it iny your comment If a summary/recap is not grounded on the transcripts explain exactly what makes it not GROUNDED - give examples. . If a recap/summary is not COMPLETE, explain what should have been included! If a response has other issues, explain what are these! Justifications without evidence and supporting claims from the responses or your research will not be counted as good.',\n",
       " 'Elements of good justifications: User Intent: The justification should include a comment that demonstrates an understanding of what the user is looking for with the prompt Conclusion: We need to determine which response is better and why. The comment should clearly explain the reasoning behind this decision. \"@Response A is better than OResponse B .. II Supporting Claims: The justification needs to have key supporting points to defend its conclusion. II \".because B has a hallucination issue II Specific Evidence: The precise examples or evidence in the text used to support each supporting point. II .Response B has a groundedness issue in the second paragraph when its talking about\" Analysis: The explanation(s) of how the evidence defends the supporting claim Summarize how your evidence supports your preference',\n",
       " 'Turn #1 Prompt Read-only L Emilia Muller**: \"So for this project, we need to decide if we\\'re bringing in external contractors or an in-house team. Given the scale, do you think it\\'s feasible to handle it ourselves, or should we outsource parts of it?\" Laura Wolf**: \"If we need specialized skills, like steel structure engineering, it might be better to hire externally. What other areas are we looking at?\" Emilia Muller**: \"Cost savings could be significant if we use our own resources for the basic work, but for complex areas like foundation laying, it could be worth investing in experts.\" Laura Wolf**: \"Right, and the contractors would need to sync closely with our team. This iS for a high-visibility project, sO quality control will be critical.\" Emilia Muller**; \"Definitely, and we\\'ll need someone to oversee the timelines tightly. What do you think about bringing on a project manager specifically for this?\" Lina Roth**: \"I agree. We need a dedicated project manager, especially to track our milestones. Do we have anyone in mind?\" Emilia Muller**: \"Let\\'s look at a few candidates. We have a budget, SO we need to see if we can bring in someone with both project management experience and construction background.\" Laura Wolf**: \"And if they specialize in commercial building projects, even better. Do we have a timeline set yet?\" Emilia Muller**: \"We\\'re aiming for completion within 18 months. It\\'lI be tight, especially if we face weather delays, SO we need to map out every phase precisely.\" Lina Roth**: \"Agreed. How will we handle subcontractors for parts like electrical work and plumbing? Are we open to hiring different teams, or should we stick with one general contractor?\"',\n",
       " 'Answer the questions below Label your response according to the questions below. Transcript comprehension Examine the transcript and indicate now much of the transcript you understand as defined by: Clear understanding of the topic that iS being discussed Clear understanding of talking points/contributions of each participant in the discussion Very unclear @ Somewhat unclear @ Neither clear or unclear @ Somewhat clear @ Very clear @ Translation comprehension Examine the transcript and indicate how much of it felt poorly translated, whether it was too \"literally translated\" from English, completely incorrectly translated or other issues with translation to the point where it becomes too confusing to interpret the meaning. Very unclear @ Somewhat unclear @ Neither clear or unclear @ Somewhat clear @ Very clear @ Save and Continue',\n",
       " 'Answer the questions below Label your response according to the questions below. Response 1 Emilia, Laura, and Lina assess the feasibility of handling a construction project internally versus outsourcing key tasks. Laura comes up with the idea of hiring a project manager and possibly a general contractor to ensure all teams work in sync and meet deadlines. The conversation emphasizes balancing budget constraints with quality and efficiency, targeting an 18-month Response Ratability Is the response in the correct anguage? yes no timeline. Completeness Issues * Please select any of the following issues with \"Completeness\" that apply to this summary: Vague summary @ Missing most talking points @ Other @ No Issues Completeness * transcript? How well does the summary capture the important points from the Incomplete @ Partially complete @ Complete @ 57 words']"
      ]
     },
     "execution_count": 15,
     "metadata": {},
     "output_type": "execute_result"
    }
   ],
   "source": [
    "texts_2 = apply_OCR(images)\n",
    "texts_2"
   ]
  },
  {
   "cell_type": "code",
   "execution_count": 36,
   "metadata": {},
   "outputs": [],
   "source": [
    "df = pd.read_csv(\"openclip_results.csv\")"
   ]
  },
  {
   "cell_type": "code",
   "execution_count": null,
   "metadata": {},
   "outputs": [],
   "source": [
    "df = df[\n",
    "    [\"name\", \"pretrained\", \"params (M)\", \"FLOPs (B)\", \"Average perf. on 38 datasets\"]\n",
    "]\n",
    "# create new column: Performance per FLOP\n",
    "df[\"Performance per FLOP\"] = (\n",
    "    df[\"Average perf. on 38 datasets\"] / df[\"FLOPs (B)\"] * 10000\n",
    ")"
   ]
  },
  {
   "cell_type": "code",
   "execution_count": 38,
   "metadata": {},
   "outputs": [
    {
     "data": {
      "text/html": [
       "<div>\n",
       "<style scoped>\n",
       "    .dataframe tbody tr th:only-of-type {\n",
       "        vertical-align: middle;\n",
       "    }\n",
       "\n",
       "    .dataframe tbody tr th {\n",
       "        vertical-align: top;\n",
       "    }\n",
       "\n",
       "    .dataframe thead th {\n",
       "        text-align: right;\n",
       "    }\n",
       "</style>\n",
       "<table border=\"1\" class=\"dataframe\">\n",
       "  <thead>\n",
       "    <tr style=\"text-align: right;\">\n",
       "      <th></th>\n",
       "      <th>name</th>\n",
       "      <th>pretrained</th>\n",
       "      <th>params (M)</th>\n",
       "      <th>FLOPs (B)</th>\n",
       "      <th>Average perf. on 38 datasets</th>\n",
       "      <th>Performance per FLOP</th>\n",
       "    </tr>\n",
       "  </thead>\n",
       "  <tbody>\n",
       "    <tr>\n",
       "      <th>0</th>\n",
       "      <td>ViT-H-14-378-quickgelu</td>\n",
       "      <td>dfn5b</td>\n",
       "      <td>986.71</td>\n",
       "      <td>1054.05</td>\n",
       "      <td>0.7079</td>\n",
       "      <td>6.716000</td>\n",
       "    </tr>\n",
       "    <tr>\n",
       "      <th>1</th>\n",
       "      <td>ViT-H-14-quickgelu</td>\n",
       "      <td>dfn5b</td>\n",
       "      <td>986.11</td>\n",
       "      <td>381.68</td>\n",
       "      <td>0.6961</td>\n",
       "      <td>18.237791</td>\n",
       "    </tr>\n",
       "    <tr>\n",
       "      <th>2</th>\n",
       "      <td>EVA02-E-14-plus</td>\n",
       "      <td>laion2b_s9b_b144k</td>\n",
       "      <td>5044.89</td>\n",
       "      <td>2362.19</td>\n",
       "      <td>0.6930</td>\n",
       "      <td>2.933718</td>\n",
       "    </tr>\n",
       "    <tr>\n",
       "      <th>3</th>\n",
       "      <td>ViT-SO400M-14-SigLIP-384</td>\n",
       "      <td>webli</td>\n",
       "      <td>877.96</td>\n",
       "      <td>723.48</td>\n",
       "      <td>0.6921</td>\n",
       "      <td>9.566263</td>\n",
       "    </tr>\n",
       "    <tr>\n",
       "      <th>4</th>\n",
       "      <td>ViT-bigG-14-CLIPA-336</td>\n",
       "      <td>datacomp1b</td>\n",
       "      <td>2517.76</td>\n",
       "      <td>2271.58</td>\n",
       "      <td>0.6842</td>\n",
       "      <td>3.012000</td>\n",
       "    </tr>\n",
       "    <tr>\n",
       "      <th>...</th>\n",
       "      <td>...</td>\n",
       "      <td>...</td>\n",
       "      <td>...</td>\n",
       "      <td>...</td>\n",
       "      <td>...</td>\n",
       "      <td>...</td>\n",
       "    </tr>\n",
       "    <tr>\n",
       "      <th>116</th>\n",
       "      <td>ViT-B-32</td>\n",
       "      <td>datacomp_s_s13m_b4k</td>\n",
       "      <td>151.28</td>\n",
       "      <td>14.78</td>\n",
       "      <td>0.1449</td>\n",
       "      <td>98.037889</td>\n",
       "    </tr>\n",
       "    <tr>\n",
       "      <th>117</th>\n",
       "      <td>ViT-B-32</td>\n",
       "      <td>commonpool_s_basic_s13m_b4k</td>\n",
       "      <td>151.28</td>\n",
       "      <td>14.78</td>\n",
       "      <td>0.1423</td>\n",
       "      <td>96.278755</td>\n",
       "    </tr>\n",
       "    <tr>\n",
       "      <th>118</th>\n",
       "      <td>ViT-B-32</td>\n",
       "      <td>commonpool_s_s13m_b4k</td>\n",
       "      <td>151.28</td>\n",
       "      <td>14.78</td>\n",
       "      <td>0.1420</td>\n",
       "      <td>96.075778</td>\n",
       "    </tr>\n",
       "    <tr>\n",
       "      <th>119</th>\n",
       "      <td>ViT-B-32</td>\n",
       "      <td>commonpool_s_laion_s13m_b4k</td>\n",
       "      <td>151.28</td>\n",
       "      <td>14.78</td>\n",
       "      <td>0.1332</td>\n",
       "      <td>90.121786</td>\n",
       "    </tr>\n",
       "    <tr>\n",
       "      <th>120</th>\n",
       "      <td>coca_ViT-B-32</td>\n",
       "      <td>mscoco_finetuned_laion2b_s13b_b90k</td>\n",
       "      <td>253.56</td>\n",
       "      <td>33.34</td>\n",
       "      <td>0.1108</td>\n",
       "      <td>33.233353</td>\n",
       "    </tr>\n",
       "  </tbody>\n",
       "</table>\n",
       "<p>121 rows × 6 columns</p>\n",
       "</div>"
      ],
      "text/plain": [
       "                         name                          pretrained  params (M)  \\\n",
       "0      ViT-H-14-378-quickgelu                               dfn5b      986.71   \n",
       "1          ViT-H-14-quickgelu                               dfn5b      986.11   \n",
       "2             EVA02-E-14-plus                   laion2b_s9b_b144k     5044.89   \n",
       "3    ViT-SO400M-14-SigLIP-384                               webli      877.96   \n",
       "4       ViT-bigG-14-CLIPA-336                          datacomp1b     2517.76   \n",
       "..                        ...                                 ...         ...   \n",
       "116                  ViT-B-32                 datacomp_s_s13m_b4k      151.28   \n",
       "117                  ViT-B-32         commonpool_s_basic_s13m_b4k      151.28   \n",
       "118                  ViT-B-32               commonpool_s_s13m_b4k      151.28   \n",
       "119                  ViT-B-32         commonpool_s_laion_s13m_b4k      151.28   \n",
       "120             coca_ViT-B-32  mscoco_finetuned_laion2b_s13b_b90k      253.56   \n",
       "\n",
       "     FLOPs (B)  Average perf. on 38 datasets  Performance per FLOP  \n",
       "0      1054.05                        0.7079              6.716000  \n",
       "1       381.68                        0.6961             18.237791  \n",
       "2      2362.19                        0.6930              2.933718  \n",
       "3       723.48                        0.6921              9.566263  \n",
       "4      2271.58                        0.6842              3.012000  \n",
       "..         ...                           ...                   ...  \n",
       "116      14.78                        0.1449             98.037889  \n",
       "117      14.78                        0.1423             96.278755  \n",
       "118      14.78                        0.1420             96.075778  \n",
       "119      14.78                        0.1332             90.121786  \n",
       "120      33.34                        0.1108             33.233353  \n",
       "\n",
       "[121 rows x 6 columns]"
      ]
     },
     "execution_count": 38,
     "metadata": {},
     "output_type": "execute_result"
    }
   ],
   "source": [
    "df"
   ]
  },
  {
   "cell_type": "code",
   "execution_count": 39,
   "metadata": {},
   "outputs": [],
   "source": [
    "df.to_csv(\"openclip_results_sorted.csv\", index=False)"
   ]
  },
  {
   "cell_type": "code",
   "execution_count": 1,
   "metadata": {},
   "outputs": [
    {
     "name": "stderr",
     "output_type": "stream",
     "text": [
      "/Users/usamaahmed/miniconda3/envs/clippyx/lib/python3.12/site-packages/tqdm/auto.py:21: TqdmWarning: IProgress not found. Please update jupyter and ipywidgets. See https://ipywidgets.readthedocs.io/en/stable/user_install.html\n",
      "  from .autonotebook import tqdm as notebook_tqdm\n"
     ]
    }
   ],
   "source": [
    "from CLIP.mobile_clip import get_clip_image, get_clip_text"
   ]
  },
  {
   "cell_type": "code",
   "execution_count": 2,
   "metadata": {},
   "outputs": [
    {
     "name": "stdout",
     "output_type": "stream",
     "text": [
      "28.7 ms ± 4.76 ms per loop (mean ± std. dev. of 7 runs, 1 loop each)\n"
     ]
    }
   ],
   "source": [
    "%%timeit\n",
    "image_embeds = get_clip_image(['CLMX/assets/cat.jpeg', 'CLMX/assets/dog.jpeg'])\n",
    "text_embeds = [get_clip_text(\"get_clip_text\"), get_clip_text(\"get_clip_text2\")]"
   ]
  },
  {
   "cell_type": "code",
   "execution_count": 12,
   "metadata": {},
   "outputs": [
    {
     "name": "stdout",
     "output_type": "stream",
     "text": [
      "Between cat text and cat image: 0.1237737043079641\n",
      "Between cat text and dog image: 0.11888455668142126\n",
      "Between dog text and cat image: 0.126184489815005\n",
      "Between dog text and dog image: 0.11337919874001338\n"
     ]
    }
   ],
   "source": [
    "from sklearn.metrics.pairwise import cosine_similarity\n",
    "\n",
    "# Compute cosine similarity between text and image embeddings:\n",
    "similarity = cosine_similarity(text_embeds, image_embeds)\n",
    "print(f\"Between cat text and cat image: {similarity[0][0]}\")\n",
    "print(f\"Between cat text and dog image: {similarity[0][1]}\")\n",
    "print(f\"Between dog text and cat image: {similarity[1][0]}\")\n",
    "print(f\"Between dog text and dog image: {similarity[1][1]}\")"
   ]
  }
 ],
 "metadata": {
  "kernelspec": {
   "display_name": "clippyx",
   "language": "python",
   "name": "python3"
  },
  "language_info": {
   "codemirror_mode": {
    "name": "ipython",
    "version": 3
   },
   "file_extension": ".py",
   "mimetype": "text/x-python",
   "name": "python",
   "nbconvert_exporter": "python",
   "pygments_lexer": "ipython3",
   "version": "3.12.4"
  }
 },
 "nbformat": 4,
 "nbformat_minor": 2
}
