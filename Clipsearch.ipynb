{
 "cells": [
  {
   "cell_type": "markdown",
   "metadata": {},
   "source": [
    "# ONNX"
   ]
  },
  {
   "cell_type": "code",
   "execution_count": 3,
   "metadata": {},
   "outputs": [],
   "source": [
    "import onnxruntime as ort\n",
    "import numpy as np\n",
    "\n",
    "# Load the ONNX model\n",
    "model_path = 'checkpoints/model_quantized.onnx'\n",
    "session = ort.InferenceSession(model_path)\n",
    "\n",
    "# Example input data\n",
    "# You'll need to replace this with your actual preprocessing to convert text to the appropriate format\n",
    "input_text = \"Example text to be embedded\"\n"
   ]
  },
  {
   "cell_type": "code",
   "execution_count": 5,
   "metadata": {},
   "outputs": [
    {
     "data": {
      "text/plain": [
       "[<onnxruntime.capi.onnxruntime_pybind11_state.NodeArg at 0x7f8aaf7f5370>,\n",
       " <onnxruntime.capi.onnxruntime_pybind11_state.NodeArg at 0x7f8aaed4d070>,\n",
       " <onnxruntime.capi.onnxruntime_pybind11_state.NodeArg at 0x7f8aac9561b0>]"
      ]
     },
     "execution_count": 5,
     "metadata": {},
     "output_type": "execute_result"
    }
   ],
   "source": [
    "ort_inputs = {session.get_inputs()[0].name: to_numpy(img_y)}"
   ]
  },
  {
   "cell_type": "code",
   "execution_count": null,
   "metadata": {},
   "outputs": [],
   "source": [
    "\n",
    "# TODO: Add your text preprocessing here to convert `input_text` to the required input format\n",
    "# For example, tokenization and conversion to numerical form (e.g., IDs or embeddings)\n",
    "# This is just a placeholder array\n",
    "input_data = np.array([[1, 2, 3, 4]])  # Replace with actual preprocessed data\n",
    "\n",
    "# Assuming the model has a single input named 'input'\n",
    "input_name = session.get_inputs()[0].name\n",
    "\n",
    "# Run the model (perform inference)\n",
    "outputs = session.run(None, {input_name: input_data})\n",
    "\n",
    "# Print the output embeddings\n",
    "print(outputs)"
   ]
  },
  {
   "cell_type": "code",
   "execution_count": null,
   "metadata": {},
   "outputs": [],
   "source": []
  },
  {
   "cell_type": "code",
   "execution_count": null,
   "metadata": {},
   "outputs": [],
   "source": []
  },
  {
   "cell_type": "code",
   "execution_count": null,
   "metadata": {},
   "outputs": [],
   "source": []
  },
  {
   "cell_type": "code",
   "execution_count": null,
   "metadata": {},
   "outputs": [],
   "source": []
  },
  {
   "cell_type": "code",
   "execution_count": 1,
   "metadata": {},
   "outputs": [],
   "source": [
    "import chromadb\n",
    "from mobile_clip import get_image_embeddings as mobile_get_image_embeddings, get_text_embeddings as mobile_get_text_embeddings\n",
    "from OCR import apply_OCR\n",
    "from sklearn.metrics.pairwise import cosine_distances"
   ]
  },
  {
   "cell_type": "code",
   "execution_count": 2,
   "metadata": {},
   "outputs": [
    {
     "name": "stdout",
     "output_type": "stream",
     "text": [
      "[[0.91656279]]\n"
     ]
    }
   ],
   "source": [
    "text = \"white dog\"\n",
    "image = \"images/british shorthair.jpg\"\n",
    "image_embed = mobile_get_image_embeddings(image)\n",
    "text_embed = mobile_get_text_embeddings(text)\n",
    "print(cosine_distances([text_embed], [image_embed]))"
   ]
  },
  {
   "cell_type": "code",
   "execution_count": null,
   "metadata": {},
   "outputs": [],
   "source": [
    "client = chromadb.PersistentClient(\n",
    "    \"db/\",\n",
    ")\n",
    "image_collection = client.get_or_create_collection(\n",
    "    \"images\", metadata={\"hnsw:space\": \"cosine\"}\n",
    ")\n",
    "text_collection = client.get_or_create_collection(\n",
    "    \"texts\", metadata={\"hnsw:space\": \"cosine\"}\n",
    ")"
   ]
  }
 ],
 "metadata": {
  "kernelspec": {
   "display_name": "main",
   "language": "python",
   "name": "python3"
  },
  "language_info": {
   "codemirror_mode": {
    "name": "ipython",
    "version": 3
   },
   "file_extension": ".py",
   "mimetype": "text/x-python",
   "name": "python",
   "nbconvert_exporter": "python",
   "pygments_lexer": "ipython3",
   "version": "3.11.9"
  }
 },
 "nbformat": 4,
 "nbformat_minor": 2
}
